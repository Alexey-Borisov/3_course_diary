{
 "cells": [
  {
   "cell_type": "code",
   "execution_count": 33,
   "id": "c94d6eda-6049-4740-ad7b-32709727c267",
   "metadata": {},
   "outputs": [],
   "source": [
    "from utils import SiteExtractor, HTMLParser, SentenceParser\n",
    "from scorer import CandidateScorer\n",
    "\n",
    "\n",
    "extr = SiteExtractor()\n",
    "html_parser = HTMLParser()\n",
    "sent_parser = SentenceParser()\n",
    "scorer = CandidateScorer('cross-encoder/qnli-electra-base')\n",
    "\n",
    "\n",
    "page_url = \"https://en.wikipedia.org/wiki/Alexander_Pushkin\"\n",
    "text = extr.get_page(page_url)\n",
    "text = html_parser.parse(text)\n",
    "text = sent_parser.parse(text)"
   ]
  },
  {
   "cell_type": "code",
   "execution_count": 39,
   "id": "36fa9a65-e1e7-414c-b235-700cea93b8f1",
   "metadata": {},
   "outputs": [
    {
     "name": "stdout",
     "output_type": "stream",
     "text": [
      "[9] His father, Sergey Lvovich Pushkin, belonged to Pushkin noble families.\n",
      "\n",
      "Pushkin's mother, Nadezhda Gannibal  Early life [ edit ]   Pushkin recites his poem before Gavrila Derzhavin during an exam in the Tsarskoye Selo Lyceum on January 8th, 1815.\n",
      "\n",
      "[10] Pushkin's mother, Nadezhda (Nadya) Ossipovna Gannibal (1775–1836), was descended through her paternal grandmother from German and Scandinavian nobility.\n",
      "\n",
      "^  Kaminski-Morrow, David (5 December 2018).\n",
      "\n",
      "Ahern, Kathleen M. The Mississippi Quarterly p. 75(11) Vol.\n",
      "\n"
     ]
    }
   ],
   "source": [
    "import numpy as np\n",
    "\n",
    "\n",
    "query = \"Who Pushkin's parents?\"\n",
    "scores = scorer.score_all(query, text)\n",
    "\n",
    "\n",
    "for i in np.argsort(scores)[::-1][:5]:\n",
    "    print(text[i], end='\\n\\n')"
   ]
  },
  {
   "cell_type": "code",
   "execution_count": 42,
   "id": "c862d66b-359b-470b-81be-074dc6d4fb51",
   "metadata": {},
   "outputs": [
    {
     "name": "stdout",
     "output_type": "stream",
     "text": [
      "Petrograd , 1923 (reprinted in Kharkiv , 1993).\n",
      "\n",
      "Пушкина в Германии и Скандинавии: происхождение Христины Регины Шёберг (Ганнибал) от Клауса фон Грабо из Грабо [Ancestors of A.S. Pushkin in Germany and Scandinavia: Descent of Christina Regina Siöberg (Hannibal) from Claus von Grabow zu Grabow]\".\n",
      "\n",
      "(Teletova, N.K.)\n",
      "\n",
      "(November 2006).\n",
      "\n",
      "Nova Online .\n",
      "\n"
     ]
    }
   ],
   "source": [
    "import numpy as np\n",
    "\n",
    "\n",
    "query = \"Where did Puskin born?\"\n",
    "scores = scorer.score_all(query, text)\n",
    "\n",
    "\n",
    "for i in np.argsort(scores)[::-1][:5]:\n",
    "    print(text[i], end='\\n\\n')"
   ]
  }
 ],
 "metadata": {
  "kernelspec": {
   "display_name": "Python 3 (ipykernel)",
   "language": "python",
   "name": "python3"
  },
  "language_info": {
   "codemirror_mode": {
    "name": "ipython",
    "version": 3
   },
   "file_extension": ".py",
   "mimetype": "text/x-python",
   "name": "python",
   "nbconvert_exporter": "python",
   "pygments_lexer": "ipython3",
   "version": "3.9.9"
  }
 },
 "nbformat": 4,
 "nbformat_minor": 5
}
